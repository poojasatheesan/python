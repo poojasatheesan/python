{
 "cells": [
  {
   "cell_type": "markdown",
   "metadata": {},
   "source": [
    "# HR ANALYTICS"
   ]
  },
  {
   "cell_type": "code",
   "execution_count": 16,
   "metadata": {},
   "outputs": [],
   "source": [
    "# Importing packages\n",
    "import pandas as pd\n",
    "import numpy as np\n",
    "import seaborn as sns\n",
    "import matplotlib.pyplot as plt"
   ]
  },
  {
   "cell_type": "code",
   "execution_count": 17,
   "metadata": {},
   "outputs": [],
   "source": [
    "data = pd.read_csv(r'C:\\Users\\pooja\\OneDrive\\Documents\\Project\\final.csv')"
   ]
  },
  {
   "cell_type": "code",
   "execution_count": 18,
   "metadata": {},
   "outputs": [
    {
     "data": {
      "text/html": [
       "<div>\n",
       "<style scoped>\n",
       "    .dataframe tbody tr th:only-of-type {\n",
       "        vertical-align: middle;\n",
       "    }\n",
       "\n",
       "    .dataframe tbody tr th {\n",
       "        vertical-align: top;\n",
       "    }\n",
       "\n",
       "    .dataframe thead th {\n",
       "        text-align: right;\n",
       "    }\n",
       "</style>\n",
       "<table border=\"1\" class=\"dataframe\">\n",
       "  <thead>\n",
       "    <tr style=\"text-align: right;\">\n",
       "      <th></th>\n",
       "      <th>Id</th>\n",
       "      <th>Age</th>\n",
       "      <th>Gender</th>\n",
       "      <th>Marital_status</th>\n",
       "      <th>Num_comp_worked</th>\n",
       "      <th>Work_Experience</th>\n",
       "      <th>Last_salary</th>\n",
       "      <th>Salary_hike</th>\n",
       "      <th>Work_hours</th>\n",
       "      <th>Traveling_required</th>\n",
       "      <th>...</th>\n",
       "      <th>Annual_leave</th>\n",
       "      <th>Medical_Family</th>\n",
       "      <th>Child_day_care</th>\n",
       "      <th>Nursing_room</th>\n",
       "      <th>Parking</th>\n",
       "      <th>Comp_size</th>\n",
       "      <th>Comp_rating</th>\n",
       "      <th>Work_life</th>\n",
       "      <th>Stresslevel</th>\n",
       "      <th>Accept_offer</th>\n",
       "    </tr>\n",
       "  </thead>\n",
       "  <tbody>\n",
       "    <tr>\n",
       "      <th>0</th>\n",
       "      <td>1</td>\n",
       "      <td>19-26</td>\n",
       "      <td>Male</td>\n",
       "      <td>Single</td>\n",
       "      <td>3-5</td>\n",
       "      <td>5</td>\n",
       "      <td>7-10k</td>\n",
       "      <td>Above 100%</td>\n",
       "      <td>Mon-Fri</td>\n",
       "      <td>No</td>\n",
       "      <td>...</td>\n",
       "      <td>&gt;12 Days</td>\n",
       "      <td>No</td>\n",
       "      <td>No</td>\n",
       "      <td>NaN</td>\n",
       "      <td>No</td>\n",
       "      <td>&gt;5000</td>\n",
       "      <td>Moderately High</td>\n",
       "      <td>Moderately High</td>\n",
       "      <td>Moderate</td>\n",
       "      <td>No</td>\n",
       "    </tr>\n",
       "    <tr>\n",
       "      <th>1</th>\n",
       "      <td>2</td>\n",
       "      <td>27-33</td>\n",
       "      <td>Female</td>\n",
       "      <td>Married</td>\n",
       "      <td>0-2</td>\n",
       "      <td>5</td>\n",
       "      <td>3.5-7k</td>\n",
       "      <td>50-75%</td>\n",
       "      <td>Mon-Fri</td>\n",
       "      <td>No</td>\n",
       "      <td>...</td>\n",
       "      <td>&gt;12 Days</td>\n",
       "      <td>No</td>\n",
       "      <td>No</td>\n",
       "      <td>Yes</td>\n",
       "      <td>No</td>\n",
       "      <td>&gt;5000</td>\n",
       "      <td>Moderately High</td>\n",
       "      <td>High</td>\n",
       "      <td>Moderate</td>\n",
       "      <td>Yes</td>\n",
       "    </tr>\n",
       "    <tr>\n",
       "      <th>2</th>\n",
       "      <td>3</td>\n",
       "      <td>27-33</td>\n",
       "      <td>Male</td>\n",
       "      <td>Married</td>\n",
       "      <td>0-2</td>\n",
       "      <td>8</td>\n",
       "      <td>3.5-7k</td>\n",
       "      <td>25-50%</td>\n",
       "      <td>Mon-Fri</td>\n",
       "      <td>Yes</td>\n",
       "      <td>...</td>\n",
       "      <td>&gt;12 Days</td>\n",
       "      <td>No</td>\n",
       "      <td>No</td>\n",
       "      <td>NaN</td>\n",
       "      <td>Yes</td>\n",
       "      <td>&gt;5000</td>\n",
       "      <td>Moderate</td>\n",
       "      <td>Moderately Low</td>\n",
       "      <td>High</td>\n",
       "      <td>No</td>\n",
       "    </tr>\n",
       "    <tr>\n",
       "      <th>3</th>\n",
       "      <td>4</td>\n",
       "      <td>19-26</td>\n",
       "      <td>Male</td>\n",
       "      <td>Single</td>\n",
       "      <td>0-2</td>\n",
       "      <td>8</td>\n",
       "      <td>3.5-7k</td>\n",
       "      <td>25-50%</td>\n",
       "      <td>Mon-Fri</td>\n",
       "      <td>Yes</td>\n",
       "      <td>...</td>\n",
       "      <td>&gt;12 Days</td>\n",
       "      <td>No</td>\n",
       "      <td>No</td>\n",
       "      <td>NaN</td>\n",
       "      <td>Yes</td>\n",
       "      <td>2000 - 5000</td>\n",
       "      <td>Moderate</td>\n",
       "      <td>Moderately High</td>\n",
       "      <td>Moderately High</td>\n",
       "      <td>Yes</td>\n",
       "    </tr>\n",
       "    <tr>\n",
       "      <th>4</th>\n",
       "      <td>5</td>\n",
       "      <td>34-40</td>\n",
       "      <td>Male</td>\n",
       "      <td>Single</td>\n",
       "      <td>6-8</td>\n",
       "      <td>8</td>\n",
       "      <td>3.5-7k</td>\n",
       "      <td>75-100%</td>\n",
       "      <td>Mon-Fri</td>\n",
       "      <td>No</td>\n",
       "      <td>...</td>\n",
       "      <td>&gt;12 Days</td>\n",
       "      <td>No</td>\n",
       "      <td>No</td>\n",
       "      <td>NaN</td>\n",
       "      <td>Yes</td>\n",
       "      <td>&gt;5000</td>\n",
       "      <td>High</td>\n",
       "      <td>Moderately High</td>\n",
       "      <td>Low</td>\n",
       "      <td>Yes</td>\n",
       "    </tr>\n",
       "  </tbody>\n",
       "</table>\n",
       "<p>5 rows × 34 columns</p>\n",
       "</div>"
      ],
      "text/plain": [
       "   Id    Age  Gender Marital_status Num_comp_worked Work_Experience  \\\n",
       "0   1  19-26    Male         Single             3-5               5   \n",
       "1   2  27-33  Female        Married             0-2               5   \n",
       "2   3  27-33    Male        Married             0-2               8   \n",
       "3   4  19-26    Male         Single             0-2               8   \n",
       "4   5  34-40    Male         Single             6-8               8   \n",
       "\n",
       "  Last_salary Salary_hike Work_hours Traveling_required  ... Annual_leave  \\\n",
       "0       7-10k  Above 100%    Mon-Fri                 No  ...     >12 Days   \n",
       "1      3.5-7k      50-75%    Mon-Fri                 No  ...     >12 Days   \n",
       "2      3.5-7k      25-50%    Mon-Fri                Yes  ...     >12 Days   \n",
       "3      3.5-7k      25-50%    Mon-Fri                Yes  ...     >12 Days   \n",
       "4      3.5-7k     75-100%    Mon-Fri                 No  ...     >12 Days   \n",
       "\n",
       "  Medical_Family Child_day_care Nursing_room Parking    Comp_size  \\\n",
       "0             No             No          NaN      No        >5000   \n",
       "1             No             No          Yes      No        >5000   \n",
       "2             No             No          NaN     Yes        >5000   \n",
       "3             No             No          NaN     Yes  2000 - 5000   \n",
       "4             No             No          NaN     Yes        >5000   \n",
       "\n",
       "       Comp_rating        Work_life      Stresslevel Accept_offer  \n",
       "0  Moderately High  Moderately High         Moderate           No  \n",
       "1  Moderately High             High         Moderate          Yes  \n",
       "2         Moderate   Moderately Low             High           No  \n",
       "3         Moderate  Moderately High  Moderately High          Yes  \n",
       "4             High  Moderately High              Low          Yes  \n",
       "\n",
       "[5 rows x 34 columns]"
      ]
     },
     "execution_count": 18,
     "metadata": {},
     "output_type": "execute_result"
    }
   ],
   "source": [
    "data.head()"
   ]
  },
  {
   "cell_type": "code",
   "execution_count": 19,
   "metadata": {},
   "outputs": [
    {
     "data": {
      "text/html": [
       "<div>\n",
       "<style scoped>\n",
       "    .dataframe tbody tr th:only-of-type {\n",
       "        vertical-align: middle;\n",
       "    }\n",
       "\n",
       "    .dataframe tbody tr th {\n",
       "        vertical-align: top;\n",
       "    }\n",
       "\n",
       "    .dataframe thead th {\n",
       "        text-align: right;\n",
       "    }\n",
       "</style>\n",
       "<table border=\"1\" class=\"dataframe\">\n",
       "  <thead>\n",
       "    <tr style=\"text-align: right;\">\n",
       "      <th></th>\n",
       "      <th>Id</th>\n",
       "      <th>Age</th>\n",
       "      <th>Gender</th>\n",
       "      <th>Marital_status</th>\n",
       "      <th>Num_comp_worked</th>\n",
       "      <th>Work_Experience</th>\n",
       "      <th>Last_salary</th>\n",
       "      <th>Salary_hike</th>\n",
       "      <th>Work_hours</th>\n",
       "      <th>Traveling_required</th>\n",
       "      <th>...</th>\n",
       "      <th>Annual_leave</th>\n",
       "      <th>Medical_Family</th>\n",
       "      <th>Child_day_care</th>\n",
       "      <th>Nursing_room</th>\n",
       "      <th>Parking</th>\n",
       "      <th>Comp_size</th>\n",
       "      <th>Comp_rating</th>\n",
       "      <th>Work_life</th>\n",
       "      <th>Stresslevel</th>\n",
       "      <th>Accept_offer</th>\n",
       "    </tr>\n",
       "  </thead>\n",
       "  <tbody>\n",
       "    <tr>\n",
       "      <th>5033</th>\n",
       "      <td>5034</td>\n",
       "      <td>27-33</td>\n",
       "      <td>Female</td>\n",
       "      <td>Married</td>\n",
       "      <td>3-5</td>\n",
       "      <td>8</td>\n",
       "      <td>7-10k</td>\n",
       "      <td>50-75%</td>\n",
       "      <td>24/7 Operation</td>\n",
       "      <td>Yes</td>\n",
       "      <td>...</td>\n",
       "      <td>&gt;12 Days</td>\n",
       "      <td>No</td>\n",
       "      <td>No</td>\n",
       "      <td>Yes</td>\n",
       "      <td>Yes</td>\n",
       "      <td>&gt;5000</td>\n",
       "      <td>Moderately High</td>\n",
       "      <td>High</td>\n",
       "      <td>Moderate</td>\n",
       "      <td>No</td>\n",
       "    </tr>\n",
       "    <tr>\n",
       "      <th>5034</th>\n",
       "      <td>5035</td>\n",
       "      <td>27-33</td>\n",
       "      <td>Female</td>\n",
       "      <td>Married</td>\n",
       "      <td>0-2</td>\n",
       "      <td>5</td>\n",
       "      <td>1 - 3.5k</td>\n",
       "      <td>25-50%</td>\n",
       "      <td>Mon-Fri</td>\n",
       "      <td>No</td>\n",
       "      <td>...</td>\n",
       "      <td>&gt;12 Days</td>\n",
       "      <td>No</td>\n",
       "      <td>No</td>\n",
       "      <td>No</td>\n",
       "      <td>Yes</td>\n",
       "      <td>500 - 2000</td>\n",
       "      <td>Moderately High</td>\n",
       "      <td>Moderate</td>\n",
       "      <td>Moderately High</td>\n",
       "      <td>Yes</td>\n",
       "    </tr>\n",
       "    <tr>\n",
       "      <th>5035</th>\n",
       "      <td>5036</td>\n",
       "      <td>27-33</td>\n",
       "      <td>Female</td>\n",
       "      <td>Single</td>\n",
       "      <td>Above 9</td>\n",
       "      <td>8</td>\n",
       "      <td>10-15k</td>\n",
       "      <td>75-100%</td>\n",
       "      <td>Flexible Hours</td>\n",
       "      <td>Yes</td>\n",
       "      <td>...</td>\n",
       "      <td>&gt;12 Days</td>\n",
       "      <td>Yes</td>\n",
       "      <td>No</td>\n",
       "      <td>No</td>\n",
       "      <td>No</td>\n",
       "      <td>2000 - 5000</td>\n",
       "      <td>Moderate</td>\n",
       "      <td>Moderately Low</td>\n",
       "      <td>High</td>\n",
       "      <td>No</td>\n",
       "    </tr>\n",
       "    <tr>\n",
       "      <th>5036</th>\n",
       "      <td>5037</td>\n",
       "      <td>27-33</td>\n",
       "      <td>Male</td>\n",
       "      <td>Single</td>\n",
       "      <td>Above 9</td>\n",
       "      <td>5</td>\n",
       "      <td>3.5-7k</td>\n",
       "      <td>25-50%</td>\n",
       "      <td>Mon-Fri</td>\n",
       "      <td>Yes</td>\n",
       "      <td>...</td>\n",
       "      <td>&gt;12 Days</td>\n",
       "      <td>No</td>\n",
       "      <td>No</td>\n",
       "      <td>NaN</td>\n",
       "      <td>No</td>\n",
       "      <td>&gt;5000</td>\n",
       "      <td>Moderate</td>\n",
       "      <td>Moderately High</td>\n",
       "      <td>High</td>\n",
       "      <td>No</td>\n",
       "    </tr>\n",
       "    <tr>\n",
       "      <th>5037</th>\n",
       "      <td>5038</td>\n",
       "      <td>19-26</td>\n",
       "      <td>Female</td>\n",
       "      <td>Married</td>\n",
       "      <td>0-2</td>\n",
       "      <td>8</td>\n",
       "      <td>3.5-7k</td>\n",
       "      <td>50-75%</td>\n",
       "      <td>Mon-Fri</td>\n",
       "      <td>No</td>\n",
       "      <td>...</td>\n",
       "      <td>&gt;12 Days</td>\n",
       "      <td>No</td>\n",
       "      <td>Yes</td>\n",
       "      <td>No</td>\n",
       "      <td>No</td>\n",
       "      <td>&lt;200</td>\n",
       "      <td>Moderately High</td>\n",
       "      <td>Moderately High</td>\n",
       "      <td>Low</td>\n",
       "      <td>Yes</td>\n",
       "    </tr>\n",
       "  </tbody>\n",
       "</table>\n",
       "<p>5 rows × 34 columns</p>\n",
       "</div>"
      ],
      "text/plain": [
       "        Id    Age  Gender Marital_status Num_comp_worked Work_Experience  \\\n",
       "5033  5034  27-33  Female        Married             3-5               8   \n",
       "5034  5035  27-33  Female        Married             0-2               5   \n",
       "5035  5036  27-33  Female         Single         Above 9               8   \n",
       "5036  5037  27-33    Male         Single         Above 9               5   \n",
       "5037  5038  19-26  Female        Married             0-2               8   \n",
       "\n",
       "     Last_salary Salary_hike      Work_hours Traveling_required  ...  \\\n",
       "5033       7-10k      50-75%  24/7 Operation                Yes  ...   \n",
       "5034    1 - 3.5k      25-50%         Mon-Fri                 No  ...   \n",
       "5035      10-15k     75-100%  Flexible Hours                Yes  ...   \n",
       "5036      3.5-7k      25-50%         Mon-Fri                Yes  ...   \n",
       "5037      3.5-7k      50-75%         Mon-Fri                 No  ...   \n",
       "\n",
       "     Annual_leave Medical_Family Child_day_care Nursing_room Parking  \\\n",
       "5033     >12 Days             No             No          Yes     Yes   \n",
       "5034     >12 Days             No             No           No     Yes   \n",
       "5035     >12 Days            Yes             No           No      No   \n",
       "5036     >12 Days             No             No          NaN      No   \n",
       "5037     >12 Days             No            Yes           No      No   \n",
       "\n",
       "        Comp_size      Comp_rating        Work_life      Stresslevel  \\\n",
       "5033        >5000  Moderately High             High         Moderate   \n",
       "5034   500 - 2000  Moderately High         Moderate  Moderately High   \n",
       "5035  2000 - 5000         Moderate   Moderately Low             High   \n",
       "5036        >5000         Moderate  Moderately High             High   \n",
       "5037         <200  Moderately High  Moderately High              Low   \n",
       "\n",
       "     Accept_offer  \n",
       "5033           No  \n",
       "5034          Yes  \n",
       "5035           No  \n",
       "5036           No  \n",
       "5037          Yes  \n",
       "\n",
       "[5 rows x 34 columns]"
      ]
     },
     "execution_count": 19,
     "metadata": {},
     "output_type": "execute_result"
    }
   ],
   "source": [
    "data.tail()"
   ]
  },
  {
   "cell_type": "code",
   "execution_count": 20,
   "metadata": {},
   "outputs": [
    {
     "data": {
      "text/plain": [
       "(5038, 34)"
      ]
     },
     "execution_count": 20,
     "metadata": {},
     "output_type": "execute_result"
    }
   ],
   "source": [
    "data.shape"
   ]
  },
  {
   "cell_type": "code",
   "execution_count": 21,
   "metadata": {},
   "outputs": [
    {
     "data": {
      "text/html": [
       "<div>\n",
       "<style scoped>\n",
       "    .dataframe tbody tr th:only-of-type {\n",
       "        vertical-align: middle;\n",
       "    }\n",
       "\n",
       "    .dataframe tbody tr th {\n",
       "        vertical-align: top;\n",
       "    }\n",
       "\n",
       "    .dataframe thead th {\n",
       "        text-align: right;\n",
       "    }\n",
       "</style>\n",
       "<table border=\"1\" class=\"dataframe\">\n",
       "  <thead>\n",
       "    <tr style=\"text-align: right;\">\n",
       "      <th></th>\n",
       "      <th>Id</th>\n",
       "    </tr>\n",
       "  </thead>\n",
       "  <tbody>\n",
       "    <tr>\n",
       "      <th>count</th>\n",
       "      <td>5038.000000</td>\n",
       "    </tr>\n",
       "    <tr>\n",
       "      <th>mean</th>\n",
       "      <td>2519.500000</td>\n",
       "    </tr>\n",
       "    <tr>\n",
       "      <th>std</th>\n",
       "      <td>1454.489658</td>\n",
       "    </tr>\n",
       "    <tr>\n",
       "      <th>min</th>\n",
       "      <td>1.000000</td>\n",
       "    </tr>\n",
       "    <tr>\n",
       "      <th>25%</th>\n",
       "      <td>1260.250000</td>\n",
       "    </tr>\n",
       "    <tr>\n",
       "      <th>50%</th>\n",
       "      <td>2519.500000</td>\n",
       "    </tr>\n",
       "    <tr>\n",
       "      <th>75%</th>\n",
       "      <td>3778.750000</td>\n",
       "    </tr>\n",
       "    <tr>\n",
       "      <th>max</th>\n",
       "      <td>5038.000000</td>\n",
       "    </tr>\n",
       "  </tbody>\n",
       "</table>\n",
       "</div>"
      ],
      "text/plain": [
       "                Id\n",
       "count  5038.000000\n",
       "mean   2519.500000\n",
       "std    1454.489658\n",
       "min       1.000000\n",
       "25%    1260.250000\n",
       "50%    2519.500000\n",
       "75%    3778.750000\n",
       "max    5038.000000"
      ]
     },
     "execution_count": 21,
     "metadata": {},
     "output_type": "execute_result"
    }
   ],
   "source": [
    "data.describe()"
   ]
  },
  {
   "cell_type": "code",
   "execution_count": 22,
   "metadata": {},
   "outputs": [
    {
     "data": {
      "text/plain": [
       "Id                                5038\n",
       "Age                                  4\n",
       "Gender                               2\n",
       "Marital_status                       2\n",
       "Num_comp_worked                      4\n",
       "Work_Experience                      4\n",
       "Last_salary                          5\n",
       "Salary_hike                          5\n",
       "Work_hours                           3\n",
       "Traveling_required                   2\n",
       "NoticePeriod_buyout                  2\n",
       "Job_type                             2\n",
       "Whether_comp_Possess_vehicle         2\n",
       "Work_location                        3\n",
       "Traveltowork_distance_._time         3\n",
       "Work_area_living_cost                3\n",
       "Public_transport_nearby              2\n",
       "Current_employment                   2\n",
       "Offer_letter_Processtime.week.       5\n",
       "Bonus                                2\n",
       "Allowance                            2\n",
       "Overtime_pay                         2\n",
       "Emp_shares_scheme                    2\n",
       "Performance_incentive                2\n",
       "Annual_leave                         2\n",
       "Medical_Family                       2\n",
       "Child_day_care                       2\n",
       "Nursing_room                         2\n",
       "Parking                              2\n",
       "Comp_size                            5\n",
       "Comp_rating                          5\n",
       "Work_life                            5\n",
       "Stresslevel                          4\n",
       "Accept_offer                         2\n",
       "dtype: int64"
      ]
     },
     "execution_count": 22,
     "metadata": {},
     "output_type": "execute_result"
    }
   ],
   "source": [
    "data.nunique()"
   ]
  },
  {
   "cell_type": "code",
   "execution_count": 23,
   "metadata": {},
   "outputs": [],
   "source": [
    "data['Nursing_room'] = data['Nursing_room'].fillna(\"No\")"
   ]
  },
  {
   "cell_type": "code",
   "execution_count": 24,
   "metadata": {},
   "outputs": [
    {
     "data": {
      "text/html": [
       "<div>\n",
       "<style scoped>\n",
       "    .dataframe tbody tr th:only-of-type {\n",
       "        vertical-align: middle;\n",
       "    }\n",
       "\n",
       "    .dataframe tbody tr th {\n",
       "        vertical-align: top;\n",
       "    }\n",
       "\n",
       "    .dataframe thead th {\n",
       "        text-align: right;\n",
       "    }\n",
       "</style>\n",
       "<table border=\"1\" class=\"dataframe\">\n",
       "  <thead>\n",
       "    <tr style=\"text-align: right;\">\n",
       "      <th></th>\n",
       "      <th>Id</th>\n",
       "      <th>Age</th>\n",
       "      <th>Gender</th>\n",
       "      <th>Marital_status</th>\n",
       "      <th>Num_comp_worked</th>\n",
       "      <th>Work_Experience</th>\n",
       "      <th>Last_salary</th>\n",
       "      <th>Salary_hike</th>\n",
       "      <th>Work_hours</th>\n",
       "      <th>Traveling_required</th>\n",
       "      <th>...</th>\n",
       "      <th>Annual_leave</th>\n",
       "      <th>Medical_Family</th>\n",
       "      <th>Child_day_care</th>\n",
       "      <th>Nursing_room</th>\n",
       "      <th>Parking</th>\n",
       "      <th>Comp_size</th>\n",
       "      <th>Comp_rating</th>\n",
       "      <th>Work_life</th>\n",
       "      <th>Stresslevel</th>\n",
       "      <th>Accept_offer</th>\n",
       "    </tr>\n",
       "  </thead>\n",
       "  <tbody>\n",
       "    <tr>\n",
       "      <th>0</th>\n",
       "      <td>1</td>\n",
       "      <td>19-26</td>\n",
       "      <td>Male</td>\n",
       "      <td>Single</td>\n",
       "      <td>3-5</td>\n",
       "      <td>5</td>\n",
       "      <td>7-10k</td>\n",
       "      <td>Above 100%</td>\n",
       "      <td>Mon-Fri</td>\n",
       "      <td>No</td>\n",
       "      <td>...</td>\n",
       "      <td>&gt;12 Days</td>\n",
       "      <td>No</td>\n",
       "      <td>No</td>\n",
       "      <td>No</td>\n",
       "      <td>No</td>\n",
       "      <td>&gt;5000</td>\n",
       "      <td>Moderately High</td>\n",
       "      <td>Moderately High</td>\n",
       "      <td>Moderate</td>\n",
       "      <td>No</td>\n",
       "    </tr>\n",
       "    <tr>\n",
       "      <th>1</th>\n",
       "      <td>2</td>\n",
       "      <td>27-33</td>\n",
       "      <td>Female</td>\n",
       "      <td>Married</td>\n",
       "      <td>0-2</td>\n",
       "      <td>5</td>\n",
       "      <td>3.5-7k</td>\n",
       "      <td>50-75%</td>\n",
       "      <td>Mon-Fri</td>\n",
       "      <td>No</td>\n",
       "      <td>...</td>\n",
       "      <td>&gt;12 Days</td>\n",
       "      <td>No</td>\n",
       "      <td>No</td>\n",
       "      <td>Yes</td>\n",
       "      <td>No</td>\n",
       "      <td>&gt;5000</td>\n",
       "      <td>Moderately High</td>\n",
       "      <td>High</td>\n",
       "      <td>Moderate</td>\n",
       "      <td>Yes</td>\n",
       "    </tr>\n",
       "    <tr>\n",
       "      <th>2</th>\n",
       "      <td>3</td>\n",
       "      <td>27-33</td>\n",
       "      <td>Male</td>\n",
       "      <td>Married</td>\n",
       "      <td>0-2</td>\n",
       "      <td>8</td>\n",
       "      <td>3.5-7k</td>\n",
       "      <td>25-50%</td>\n",
       "      <td>Mon-Fri</td>\n",
       "      <td>Yes</td>\n",
       "      <td>...</td>\n",
       "      <td>&gt;12 Days</td>\n",
       "      <td>No</td>\n",
       "      <td>No</td>\n",
       "      <td>No</td>\n",
       "      <td>Yes</td>\n",
       "      <td>&gt;5000</td>\n",
       "      <td>Moderate</td>\n",
       "      <td>Moderately Low</td>\n",
       "      <td>High</td>\n",
       "      <td>No</td>\n",
       "    </tr>\n",
       "    <tr>\n",
       "      <th>3</th>\n",
       "      <td>4</td>\n",
       "      <td>19-26</td>\n",
       "      <td>Male</td>\n",
       "      <td>Single</td>\n",
       "      <td>0-2</td>\n",
       "      <td>8</td>\n",
       "      <td>3.5-7k</td>\n",
       "      <td>25-50%</td>\n",
       "      <td>Mon-Fri</td>\n",
       "      <td>Yes</td>\n",
       "      <td>...</td>\n",
       "      <td>&gt;12 Days</td>\n",
       "      <td>No</td>\n",
       "      <td>No</td>\n",
       "      <td>No</td>\n",
       "      <td>Yes</td>\n",
       "      <td>2000 - 5000</td>\n",
       "      <td>Moderate</td>\n",
       "      <td>Moderately High</td>\n",
       "      <td>Moderately High</td>\n",
       "      <td>Yes</td>\n",
       "    </tr>\n",
       "    <tr>\n",
       "      <th>4</th>\n",
       "      <td>5</td>\n",
       "      <td>34-40</td>\n",
       "      <td>Male</td>\n",
       "      <td>Single</td>\n",
       "      <td>6-8</td>\n",
       "      <td>8</td>\n",
       "      <td>3.5-7k</td>\n",
       "      <td>75-100%</td>\n",
       "      <td>Mon-Fri</td>\n",
       "      <td>No</td>\n",
       "      <td>...</td>\n",
       "      <td>&gt;12 Days</td>\n",
       "      <td>No</td>\n",
       "      <td>No</td>\n",
       "      <td>No</td>\n",
       "      <td>Yes</td>\n",
       "      <td>&gt;5000</td>\n",
       "      <td>High</td>\n",
       "      <td>Moderately High</td>\n",
       "      <td>Low</td>\n",
       "      <td>Yes</td>\n",
       "    </tr>\n",
       "    <tr>\n",
       "      <th>...</th>\n",
       "      <td>...</td>\n",
       "      <td>...</td>\n",
       "      <td>...</td>\n",
       "      <td>...</td>\n",
       "      <td>...</td>\n",
       "      <td>...</td>\n",
       "      <td>...</td>\n",
       "      <td>...</td>\n",
       "      <td>...</td>\n",
       "      <td>...</td>\n",
       "      <td>...</td>\n",
       "      <td>...</td>\n",
       "      <td>...</td>\n",
       "      <td>...</td>\n",
       "      <td>...</td>\n",
       "      <td>...</td>\n",
       "      <td>...</td>\n",
       "      <td>...</td>\n",
       "      <td>...</td>\n",
       "      <td>...</td>\n",
       "      <td>...</td>\n",
       "    </tr>\n",
       "    <tr>\n",
       "      <th>5033</th>\n",
       "      <td>5034</td>\n",
       "      <td>27-33</td>\n",
       "      <td>Female</td>\n",
       "      <td>Married</td>\n",
       "      <td>3-5</td>\n",
       "      <td>8</td>\n",
       "      <td>7-10k</td>\n",
       "      <td>50-75%</td>\n",
       "      <td>24/7 Operation</td>\n",
       "      <td>Yes</td>\n",
       "      <td>...</td>\n",
       "      <td>&gt;12 Days</td>\n",
       "      <td>No</td>\n",
       "      <td>No</td>\n",
       "      <td>Yes</td>\n",
       "      <td>Yes</td>\n",
       "      <td>&gt;5000</td>\n",
       "      <td>Moderately High</td>\n",
       "      <td>High</td>\n",
       "      <td>Moderate</td>\n",
       "      <td>No</td>\n",
       "    </tr>\n",
       "    <tr>\n",
       "      <th>5034</th>\n",
       "      <td>5035</td>\n",
       "      <td>27-33</td>\n",
       "      <td>Female</td>\n",
       "      <td>Married</td>\n",
       "      <td>0-2</td>\n",
       "      <td>5</td>\n",
       "      <td>1 - 3.5k</td>\n",
       "      <td>25-50%</td>\n",
       "      <td>Mon-Fri</td>\n",
       "      <td>No</td>\n",
       "      <td>...</td>\n",
       "      <td>&gt;12 Days</td>\n",
       "      <td>No</td>\n",
       "      <td>No</td>\n",
       "      <td>No</td>\n",
       "      <td>Yes</td>\n",
       "      <td>500 - 2000</td>\n",
       "      <td>Moderately High</td>\n",
       "      <td>Moderate</td>\n",
       "      <td>Moderately High</td>\n",
       "      <td>Yes</td>\n",
       "    </tr>\n",
       "    <tr>\n",
       "      <th>5035</th>\n",
       "      <td>5036</td>\n",
       "      <td>27-33</td>\n",
       "      <td>Female</td>\n",
       "      <td>Single</td>\n",
       "      <td>Above 9</td>\n",
       "      <td>8</td>\n",
       "      <td>10-15k</td>\n",
       "      <td>75-100%</td>\n",
       "      <td>Flexible Hours</td>\n",
       "      <td>Yes</td>\n",
       "      <td>...</td>\n",
       "      <td>&gt;12 Days</td>\n",
       "      <td>Yes</td>\n",
       "      <td>No</td>\n",
       "      <td>No</td>\n",
       "      <td>No</td>\n",
       "      <td>2000 - 5000</td>\n",
       "      <td>Moderate</td>\n",
       "      <td>Moderately Low</td>\n",
       "      <td>High</td>\n",
       "      <td>No</td>\n",
       "    </tr>\n",
       "    <tr>\n",
       "      <th>5036</th>\n",
       "      <td>5037</td>\n",
       "      <td>27-33</td>\n",
       "      <td>Male</td>\n",
       "      <td>Single</td>\n",
       "      <td>Above 9</td>\n",
       "      <td>5</td>\n",
       "      <td>3.5-7k</td>\n",
       "      <td>25-50%</td>\n",
       "      <td>Mon-Fri</td>\n",
       "      <td>Yes</td>\n",
       "      <td>...</td>\n",
       "      <td>&gt;12 Days</td>\n",
       "      <td>No</td>\n",
       "      <td>No</td>\n",
       "      <td>No</td>\n",
       "      <td>No</td>\n",
       "      <td>&gt;5000</td>\n",
       "      <td>Moderate</td>\n",
       "      <td>Moderately High</td>\n",
       "      <td>High</td>\n",
       "      <td>No</td>\n",
       "    </tr>\n",
       "    <tr>\n",
       "      <th>5037</th>\n",
       "      <td>5038</td>\n",
       "      <td>19-26</td>\n",
       "      <td>Female</td>\n",
       "      <td>Married</td>\n",
       "      <td>0-2</td>\n",
       "      <td>8</td>\n",
       "      <td>3.5-7k</td>\n",
       "      <td>50-75%</td>\n",
       "      <td>Mon-Fri</td>\n",
       "      <td>No</td>\n",
       "      <td>...</td>\n",
       "      <td>&gt;12 Days</td>\n",
       "      <td>No</td>\n",
       "      <td>Yes</td>\n",
       "      <td>No</td>\n",
       "      <td>No</td>\n",
       "      <td>&lt;200</td>\n",
       "      <td>Moderately High</td>\n",
       "      <td>Moderately High</td>\n",
       "      <td>Low</td>\n",
       "      <td>Yes</td>\n",
       "    </tr>\n",
       "  </tbody>\n",
       "</table>\n",
       "<p>5038 rows × 34 columns</p>\n",
       "</div>"
      ],
      "text/plain": [
       "        Id    Age  Gender Marital_status Num_comp_worked Work_Experience  \\\n",
       "0        1  19-26    Male         Single             3-5               5   \n",
       "1        2  27-33  Female        Married             0-2               5   \n",
       "2        3  27-33    Male        Married             0-2               8   \n",
       "3        4  19-26    Male         Single             0-2               8   \n",
       "4        5  34-40    Male         Single             6-8               8   \n",
       "...    ...    ...     ...            ...             ...             ...   \n",
       "5033  5034  27-33  Female        Married             3-5               8   \n",
       "5034  5035  27-33  Female        Married             0-2               5   \n",
       "5035  5036  27-33  Female         Single         Above 9               8   \n",
       "5036  5037  27-33    Male         Single         Above 9               5   \n",
       "5037  5038  19-26  Female        Married             0-2               8   \n",
       "\n",
       "     Last_salary Salary_hike      Work_hours Traveling_required  ...  \\\n",
       "0          7-10k  Above 100%         Mon-Fri                 No  ...   \n",
       "1         3.5-7k      50-75%         Mon-Fri                 No  ...   \n",
       "2         3.5-7k      25-50%         Mon-Fri                Yes  ...   \n",
       "3         3.5-7k      25-50%         Mon-Fri                Yes  ...   \n",
       "4         3.5-7k     75-100%         Mon-Fri                 No  ...   \n",
       "...          ...         ...             ...                ...  ...   \n",
       "5033       7-10k      50-75%  24/7 Operation                Yes  ...   \n",
       "5034    1 - 3.5k      25-50%         Mon-Fri                 No  ...   \n",
       "5035      10-15k     75-100%  Flexible Hours                Yes  ...   \n",
       "5036      3.5-7k      25-50%         Mon-Fri                Yes  ...   \n",
       "5037      3.5-7k      50-75%         Mon-Fri                 No  ...   \n",
       "\n",
       "     Annual_leave Medical_Family Child_day_care Nursing_room Parking  \\\n",
       "0        >12 Days             No             No           No      No   \n",
       "1        >12 Days             No             No          Yes      No   \n",
       "2        >12 Days             No             No           No     Yes   \n",
       "3        >12 Days             No             No           No     Yes   \n",
       "4        >12 Days             No             No           No     Yes   \n",
       "...           ...            ...            ...          ...     ...   \n",
       "5033     >12 Days             No             No          Yes     Yes   \n",
       "5034     >12 Days             No             No           No     Yes   \n",
       "5035     >12 Days            Yes             No           No      No   \n",
       "5036     >12 Days             No             No           No      No   \n",
       "5037     >12 Days             No            Yes           No      No   \n",
       "\n",
       "        Comp_size      Comp_rating        Work_life      Stresslevel  \\\n",
       "0           >5000  Moderately High  Moderately High         Moderate   \n",
       "1           >5000  Moderately High             High         Moderate   \n",
       "2           >5000         Moderate   Moderately Low             High   \n",
       "3     2000 - 5000         Moderate  Moderately High  Moderately High   \n",
       "4           >5000             High  Moderately High              Low   \n",
       "...           ...              ...              ...              ...   \n",
       "5033        >5000  Moderately High             High         Moderate   \n",
       "5034   500 - 2000  Moderately High         Moderate  Moderately High   \n",
       "5035  2000 - 5000         Moderate   Moderately Low             High   \n",
       "5036        >5000         Moderate  Moderately High             High   \n",
       "5037         <200  Moderately High  Moderately High              Low   \n",
       "\n",
       "     Accept_offer  \n",
       "0              No  \n",
       "1             Yes  \n",
       "2              No  \n",
       "3             Yes  \n",
       "4             Yes  \n",
       "...           ...  \n",
       "5033           No  \n",
       "5034          Yes  \n",
       "5035           No  \n",
       "5036           No  \n",
       "5037          Yes  \n",
       "\n",
       "[5038 rows x 34 columns]"
      ]
     },
     "execution_count": 24,
     "metadata": {},
     "output_type": "execute_result"
    }
   ],
   "source": [
    "data"
   ]
  },
  {
   "cell_type": "code",
   "execution_count": 25,
   "metadata": {},
   "outputs": [
    {
     "data": {
      "text/plain": [
       "False"
      ]
     },
     "execution_count": 25,
     "metadata": {},
     "output_type": "execute_result"
    }
   ],
   "source": [
    "data.isnull().values.any()"
   ]
  },
  {
   "cell_type": "code",
   "execution_count": 26,
   "metadata": {},
   "outputs": [
    {
     "name": "stdout",
     "output_type": "stream",
     "text": [
      "<class 'pandas.core.frame.DataFrame'>\n",
      "RangeIndex: 5038 entries, 0 to 5037\n",
      "Data columns (total 34 columns):\n",
      " #   Column                          Non-Null Count  Dtype \n",
      "---  ------                          --------------  ----- \n",
      " 0   Id                              5038 non-null   int64 \n",
      " 1   Age                             5038 non-null   object\n",
      " 2   Gender                          5038 non-null   object\n",
      " 3   Marital_status                  5038 non-null   object\n",
      " 4   Num_comp_worked                 5038 non-null   object\n",
      " 5   Work_Experience                 5038 non-null   object\n",
      " 6   Last_salary                     5038 non-null   object\n",
      " 7   Salary_hike                     5038 non-null   object\n",
      " 8   Work_hours                      5038 non-null   object\n",
      " 9   Traveling_required              5038 non-null   object\n",
      " 10  NoticePeriod_buyout             5038 non-null   object\n",
      " 11  Job_type                        5038 non-null   object\n",
      " 12  Whether_comp_Possess_vehicle    5038 non-null   object\n",
      " 13  Work_location                   5038 non-null   object\n",
      " 14  Traveltowork_distance_._time    5038 non-null   object\n",
      " 15  Work_area_living_cost           5038 non-null   object\n",
      " 16  Public_transport_nearby         5038 non-null   object\n",
      " 17  Current_employment              5038 non-null   object\n",
      " 18  Offer_letter_Processtime.week.  5038 non-null   object\n",
      " 19  Bonus                           5038 non-null   object\n",
      " 20  Allowance                       5038 non-null   object\n",
      " 21  Overtime_pay                    5038 non-null   object\n",
      " 22  Emp_shares_scheme               5038 non-null   object\n",
      " 23  Performance_incentive           5038 non-null   object\n",
      " 24  Annual_leave                    5038 non-null   object\n",
      " 25  Medical_Family                  5038 non-null   object\n",
      " 26  Child_day_care                  5038 non-null   object\n",
      " 27  Nursing_room                    5038 non-null   object\n",
      " 28  Parking                         5038 non-null   object\n",
      " 29  Comp_size                       5038 non-null   object\n",
      " 30  Comp_rating                     5038 non-null   object\n",
      " 31  Work_life                       5038 non-null   object\n",
      " 32  Stresslevel                     5038 non-null   object\n",
      " 33  Accept_offer                    5038 non-null   object\n",
      "dtypes: int64(1), object(33)\n",
      "memory usage: 1.3+ MB\n"
     ]
    }
   ],
   "source": [
    "data.info()"
   ]
  },
  {
   "cell_type": "code",
   "execution_count": 12,
   "metadata": {},
   "outputs": [],
   "source": [
    "# Relationship Analysis"
   ]
  },
  {
   "cell_type": "markdown",
   "metadata": {},
   "source": [
    "## Univaraite Analysis"
   ]
  },
  {
   "cell_type": "code",
   "execution_count": 35,
   "metadata": {},
   "outputs": [
    {
     "data": {
      "text/plain": [
       "<matplotlib.axes._subplots.AxesSubplot at 0x223c8eb4400>"
      ]
     },
     "execution_count": 35,
     "metadata": {},
     "output_type": "execute_result"
    },
    {
     "data": {
      "image/png": "[encoded data removed]",
      "text/plain": [
       "<Figure size 432x288 with 1 Axes>"
      ]
     },
     "metadata": {
      "needs_background": "light"
     },
     "output_type": "display_data"
    }
   ],
   "source": [
    "data.Gender.value_counts(normalize=True).plot(kind = 'bar', title = \"Gender\")"
   ]
  },
  {
   "cell_type": "code",
   "execution_count": 40,
   "metadata": {},
   "outputs": [
    {
     "data": {
      "text/plain": [
       "<matplotlib.axes._subplots.AxesSubplot at 0x223c21c6a00>"
      ]
     },
     "execution_count": 40,
     "metadata": {},
     "output_type": "execute_result"
    },
    {
     "data": {
      "image/png": "[encoded data removed]",
      "text/plain": [
       "<Figure size 432x288 with 1 Axes>"
      ]
     },
     "metadata": {
      "needs_background": "light"
     },
     "output_type": "display_data"
    }
   ],
   "source": [
    "data.Accept_offer.value_counts(normalize=True).plot(kind = 'bar', title = \"Accept_offer\")"
   ]
  },
  {
   "cell_type": "code",
   "execution_count": 42,
   "metadata": {},
   "outputs": [
    {
     "data": {
      "text/plain": [
       "<matplotlib.axes._subplots.AxesSubplot at 0x223cc0b81f0>"
      ]
     },
     "execution_count": 42,
     "metadata": {},
     "output_type": "execute_result"
    },
    {
     "data": {
      "image/png": "[encoded data removed]",
      "text/plain": [
       "<Figure size 720x576 with 4 Axes>"
      ]
     },
     "metadata": {
      "needs_background": "light"
     },
     "output_type": "display_data"
    }
   ],
   "source": [
    "plt.subplot(221)\n",
    "data.Marital_status.value_counts(normalize=True).plot(kind = 'bar', title = \"Marital_status\",figsize=(10,8))\n",
    "plt.tight_layout(pad=0.5)\n",
    "plt.subplot(222)\n",
    "data.Traveling_required.value_counts(normalize=True).plot(kind = 'bar', title = \"Traveling_required\")\n",
    "plt.tight_layout(pad=0.5)\n",
    "plt.subplot(223)\n",
    "data.NoticePeriod_buyout.value_counts(normalize=True).plot(kind = 'bar',title = \"NoticePeriod_buyout\")\n",
    "plt.tight_layout(pad=0.5)\n",
    "plt.subplot(224)\n",
    "data.Job_type.value_counts(normalize=True).plot(kind = 'bar',title = \"Job_type\")"
   ]
  },
  {
   "cell_type": "code",
   "execution_count": 45,
   "metadata": {},
   "outputs": [
    {
     "data": {
      "text/plain": [
       "<matplotlib.axes._subplots.AxesSubplot at 0x223cc5398b0>"
      ]
     },
     "execution_count": 45,
     "metadata": {},
     "output_type": "execute_result"
    },
    {
     "data": {
      "image/png": "[encoded data removed]",
      "text/plain": [
       "<Figure size 720x576 with 4 Axes>"
      ]
     },
     "metadata": {
      "needs_background": "light"
     },
     "output_type": "display_data"
    }
   ],
   "source": [
    "plt.subplot(221)\n",
    "data.Bonus.value_counts(normalize=True).plot(kind = 'bar',title = \"Bonus\",figsize=(10,8))\n",
    "plt.tight_layout(pad=0.5)\n",
    "plt.subplot(222)\n",
    "data.Allowance.value_counts(normalize=True).plot(kind = 'bar',title = \"Allowance\")\n",
    "plt.tight_layout(pad=0.5)\n",
    "plt.subplot(223)\n",
    "data.Overtime_pay.value_counts(normalize=True).plot(kind = 'bar',title = \"Overtime_pay\")\n",
    "plt.tight_layout(pad=0.5)\n",
    "plt.subplot(224)\n",
    "data.Medical_Family.value_counts(normalize=True).plot(kind = 'bar',title = \"Medical_Family\")"
   ]
  },
  {
   "cell_type": "code",
   "execution_count": 49,
   "metadata": {},
   "outputs": [
    {
     "data": {
      "text/plain": [
       "<matplotlib.axes._subplots.AxesSubplot at 0x223cc9208e0>"
      ]
     },
     "execution_count": 49,
     "metadata": {},
     "output_type": "execute_result"
    },
    {
     "data": {
      "image/png": "[encoded data removed]",
      "text/plain": [
       "<Figure size 432x288 with 2 Axes>"
      ]
     },
     "metadata": {
      "needs_background": "light"
     },
     "output_type": "display_data"
    }
   ],
   "source": [
    "plt.subplot(121)\n",
    "data.Comp_rating.value_counts(normalize=True).plot(kind = 'bar',title = \"Comp_rating\")\n",
    "plt.tight_layout(pad=1.0)\n",
    "plt.subplot(122)\n",
    "data.Work_life.value_counts(normalize=True).plot(kind = 'bar',title = \"Work_life\")"
   ]
  },
  {
   "cell_type": "markdown",
   "metadata": {},
   "source": [
    "## Bivariate Analysis"
   ]
  },
  {
   "cell_type": "code",
   "execution_count": 62,
   "metadata": {},
   "outputs": [
    {
     "data": {
      "text/plain": [
       "<matplotlib.axes._subplots.AxesSubplot at 0x223c12d79d0>"
      ]
     },
     "execution_count": 62,
     "metadata": {},
     "output_type": "execute_result"
    },
    {
     "data": {
      "image/png": "[encoded data removed]",
      "text/plain": [
       "<Figure size 1224x595.44 with 6 Axes>"
      ]
     },
     "metadata": {},
     "output_type": "display_data"
    }
   ],
   "source": [
    "sns.set(rc={'figure.figsize':(17,8.27)})\n",
    "plt.subplot(231)\n",
    "sns.countplot(x=\"Gender\", hue='Accept_offer', data=data)\n",
    "plt.subplot(232)\n",
    "sns.countplot(x=\"Marital_status\", hue='Accept_offer', data=data)\n",
    "plt.subplot(233)\n",
    "sns.countplot(x=\"Salary_hike\",hue='Accept_offer', data=data)\n",
    "plt.subplot(234)\n",
    "sns.countplot(x=\"Work_hours\", hue='Accept_offer', data=data)\n",
    "plt.subplot(235)\n",
    "sns.countplot(x=\"Job_type\", hue='Accept_offer', data=data)\n",
    "plt.subplot(236)\n",
    "sns.countplot(x=\"Age\", hue='Accept_offer', data=data)"
   ]
  },
  {
   "cell_type": "code",
   "execution_count": 80,
   "metadata": {},
   "outputs": [
    {
     "data": {
      "text/plain": [
       "<matplotlib.axes._subplots.AxesSubplot at 0x223cb3d7640>"
      ]
     },
     "execution_count": 80,
     "metadata": {},
     "output_type": "execute_result"
    },
    {
     "data": {
      "image/png": "[encoded data removed]",
      "text/plain": [
       "<Figure size 1440x595.44 with 6 Axes>"
      ]
     },
     "metadata": {},
     "output_type": "display_data"
    }
   ],
   "source": [
    "sns.set(rc={'figure.figsize':(20,8.27)})\n",
    "plt.subplot(231)\n",
    "sns.countplot(x=\"Traveltowork_distance_._time\", hue='Accept_offer', data=data)\n",
    "plt.subplot(232)\n",
    "sns.countplot(x=\"Work_area_living_cost\", hue='Accept_offer', data=data)\n",
    "plt.subplot(233)\n",
    "sns.countplot(x=\"Offer_letter_Processtime.week.\",hue='Accept_offer', data=data)\n",
    "plt.subplot(234)\n",
    "sns.countplot(x=\"Annual_leave\",hue='Accept_offer', data=data)\n",
    "plt.subplot(235)\n",
    "sns.countplot(x=\"Comp_rating\",hue='Accept_offer', data=data)\n",
    "plt.subplot(236)\n",
    "sns.countplot(x=\"Work_location\", hue='Accept_offer', data=data)"
   ]
  },
  {
   "cell_type": "code",
   "execution_count": 82,
   "metadata": {},
   "outputs": [
    {
     "data": {
      "text/plain": [
       "<matplotlib.axes._subplots.AxesSubplot at 0x223caee2280>"
      ]
     },
     "execution_count": 82,
     "metadata": {},
     "output_type": "execute_result"
    },
    {
     "data": {
      "image/png": "[encoded data removed]",
      "text/plain": [
       "<Figure size 1440x595.44 with 3 Axes>"
      ]
     },
     "metadata": {},
     "output_type": "display_data"
    }
   ],
   "source": [
    "sns.set(rc={'figure.figsize':(20,8.27)})\n",
    "plt.subplot(231)\n",
    "sns.countplot(x=\"NoticePeriod_buyout\", hue='Accept_offer', data=data)\n",
    "plt.subplot(232)\n",
    "sns.countplot(x=\"Work_life\", hue='Accept_offer', data=data)\n",
    "plt.subplot(233)\n",
    "sns.countplot(x=\"Stresslevel\", hue='Accept_offer', data=data)\n"
   ]
  },
  {
   "cell_type": "markdown",
   "metadata": {},
   "source": [
    "## Observations"
   ]
  },
  {
   "cell_type": "code",
   "execution_count": null,
   "metadata": {},
   "outputs": [],
   "source": [
    "1:- Candidates between the age group 19-26 are more likely to accept the offer.\n",
    "2:- More female candidates have turned down the offer when compared to male candidates.\n",
    "3:- The acceptance ratio of single candidates is almost double as compared to married candidates in an organization.\n",
    "4:- Candidates who are offered permanent jobs are more likely to join the organization.\n",
    "5:- The majority of the candidates with less than 50% salary hike have not accepted the offer.\n",
    "6:- Very few candidates have accepted the offer to join the organization having less than 12 days of Annual leaves.\n",
    "7:- Zero candidates have joined the organization having low ratings.\n",
    "8:- The majority of the candidates prefer the work location to be Town over Outskirt Town and Business Center.\n",
    "9:- The majority of the candidates have turned down the accept offer from an organization that does not provide the option for NoticePeriod_buyout.\n"
   ]
  },
  {
   "cell_type": "code",
   "execution_count": null,
   "metadata": {},
   "outputs": [],
   "source": []
  }
 ],
 "metadata": {
  "kernelspec": {
   "display_name": "Python 3",
   "language": "python",
   "name": "python3"
  },
  "language_info": {
   "codemirror_mode": {
    "name": "ipython",
    "version": 3
   },
   "file_extension": ".py",
   "mimetype": "text/x-python",
   "name": "python",
   "nbconvert_exporter": "python",
   "pygments_lexer": "ipython3",
   "version": "3.8.3"
  }
 },
 "nbformat": 4,
 "nbformat_minor": 4
}
